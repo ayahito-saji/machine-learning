{
 "cells": [
  {
   "cell_type": "code",
   "execution_count": 25,
   "metadata": {},
   "outputs": [],
   "source": [
    "import numpy as np\n",
    "\n",
    "class Perceptron:\n",
    "    def __init__(self, b, *w):\n",
    "        self.w = np.array(w)\n",
    "        self.b = b\n",
    "    def stream(self, *x):\n",
    "        tmp = np.sum(self.w * np.array(x)) + self.b\n",
    "        if tmp <= 0:\n",
    "            return 0\n",
    "        else:\n",
    "            return 1"
   ]
  },
  {
   "cell_type": "code",
   "execution_count": 29,
   "metadata": {},
   "outputs": [
    {
     "data": {
      "text/plain": [
       "(0, 0, 0, 1)"
      ]
     },
     "execution_count": 29,
     "metadata": {},
     "output_type": "execute_result"
    }
   ],
   "source": [
    "AND = Perceptron(-0.7, 0.5, 0.5)\n",
    "\n",
    "AND.stream(0, 0),\\\n",
    "AND.stream(0, 1),\\\n",
    "AND.stream(1, 0),\\\n",
    "AND.stream(1, 1)"
   ]
  },
  {
   "cell_type": "code",
   "execution_count": 30,
   "metadata": {
    "scrolled": true
   },
   "outputs": [
    {
     "data": {
      "text/plain": [
       "(0, 1, 1, 1)"
      ]
     },
     "execution_count": 30,
     "metadata": {},
     "output_type": "execute_result"
    }
   ],
   "source": [
    "OR = Perceptron(-0.2, 0.5, 0.5)\n",
    "\n",
    "OR.stream(0, 0),\\\n",
    "OR.stream(0, 1),\\\n",
    "OR.stream(1, 0),\\\n",
    "OR.stream(1, 1)"
   ]
  },
  {
   "cell_type": "code",
   "execution_count": 31,
   "metadata": {},
   "outputs": [
    {
     "data": {
      "text/plain": [
       "(1, 1, 1, 0)"
      ]
     },
     "execution_count": 31,
     "metadata": {},
     "output_type": "execute_result"
    }
   ],
   "source": [
    "NAND = Perceptron(0.7, -0.5, -0.5)\n",
    "\n",
    "NAND.stream(0, 0),\\\n",
    "NAND.stream(0, 1),\\\n",
    "NAND.stream(1, 0),\\\n",
    "NAND.stream(1, 1)"
   ]
  },
  {
   "cell_type": "code",
   "execution_count": 35,
   "metadata": {},
   "outputs": [],
   "source": [
    "def XOR(*x):\n",
    "    s1 = NAND.stream(x)\n",
    "    s2 = OR.stream(x)\n",
    "    y = AND.stream(s1, s2)\n",
    "    return y"
   ]
  },
  {
   "cell_type": "code",
   "execution_count": 36,
   "metadata": {},
   "outputs": [
    {
     "data": {
      "text/plain": [
       "(0, 1, 1, 0)"
      ]
     },
     "execution_count": 36,
     "metadata": {},
     "output_type": "execute_result"
    }
   ],
   "source": [
    "XOR(0, 0),\\\n",
    "XOR(0, 1),\\\n",
    "XOR(1, 0),\\\n",
    "XOR(1, 1)"
   ]
  },
  {
   "cell_type": "code",
   "execution_count": null,
   "metadata": {},
   "outputs": [],
   "source": []
  }
 ],
 "metadata": {
  "kernelspec": {
   "display_name": "Python 3",
   "language": "python",
   "name": "python3"
  },
  "language_info": {
   "codemirror_mode": {
    "name": "ipython",
    "version": 3
   },
   "file_extension": ".py",
   "mimetype": "text/x-python",
   "name": "python",
   "nbconvert_exporter": "python",
   "pygments_lexer": "ipython3",
   "version": "3.6.9"
  }
 },
 "nbformat": 4,
 "nbformat_minor": 2
}
